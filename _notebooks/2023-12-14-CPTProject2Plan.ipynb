{
 "cells": [
  {
   "cell_type": "markdown",
   "metadata": {},
   "source": [
    "---\n",
    "toc: true\n",
    "comments: true\n",
    "layout: post\n",
    "title: CPT Project 2 Plan\n",
    "description: Plan for our CPT Project 2 - TBFT\n",
    "type: hacks\n",
    "courses: { compsci: {week: 14} }\n",
    "---"
   ]
  },
  {
   "cell_type": "markdown",
   "metadata": {},
   "source": [
    "## EARLY BRAINSTORMING IDEAS\n",
    "\n",
    "- Fireboy and Watergirl multiplayer game\n",
    "    - Uses database to store turn-based things\n",
    "\n",
    "- POLYTOPIA Clone? Either civilization based or business based\n",
    "\n",
    "- Text based MetalGear (or other game like tarkov or doom)\n",
    "    - Set outcomes but differing events and random chance\n",
    "    - Not heavy on visuals\n",
    "    - Test based\n",
    "\n",
    "- Turn based history game?\n",
    "    - 2 people, dont know where each other are\n",
    "    - set position to move and events with change\n",
    "\n",
    "- watch designing / customizing\n",
    "\n",
    "- business or other simulator game, idk oregon trail esque\n",
    "\n",
    "- (alternate) history visual novel\n",
    "    - different paths or instances initially and decisions are stored and paths intertwine and influence each other"
   ]
  },
  {
   "cell_type": "markdown",
   "metadata": {},
   "source": [
    "## DECIDED IDEA\n",
    "\n",
    "### TBFT: Turn Based Fantasty Tarkov:\n",
    "\n",
    "- Various stats of characters or like equipment that increases stats\n",
    "- Map with set location, can pick where to go + images for places and/or bosses/enemies/player\n",
    "- Get a warning when people are near (maybe add sound)\n",
    "- Can choose to like move out, attack, or anything\n",
    "- If attack someone, has % chance to defeat them\n",
    "- No actual weapons, use either medieval weapons or like magic and classes\n",
    "- If defeated, leave\n",
    "- Can have like multiplayer or boss\n",
    "\n",
    "### ROLES:\n",
    "\n",
    "- Frontend:\n",
    "    - Jason Gao\n",
    "    - Will Bartelt  \n",
    "    - Nathan Obodovski\n",
    "- Backend:\n",
    "    - Rayyan Darugar\n",
    "    - Grayson Guyot\n",
    "\n",
    "### THINGS WE NEED TO CODE -\n",
    "\n",
    "- 2D maps and characters (need models for that)\n",
    "- JWT authentication for users -- track user stats and leaderboards in backend\n",
    "- Data models to define how classes work - need preset dictionaries with classes\n",
    "- Track mobs and positioning for everything\n",
    "- Get an API working !!!\n",
    "- Use SQL to track user positioning data and enemy data, just all data in general\n",
    "- to be continued !!!! "
   ]
  }
 ],
 "metadata": {
  "language_info": {
   "name": "python"
  }
 },
 "nbformat": 4,
 "nbformat_minor": 2
}
